{
 "cells": [
  {
   "cell_type": "code",
   "execution_count": null,
   "id": "18068241",
   "metadata": {},
   "outputs": [],
   "source": [
    "import requests #리퀘스트\n",
    "import re \n",
    "from html.parser import HTMLParser # 수프를 사용하기위해 \n",
    "from bs4 import BeautifulSoup # 수프 사용\n",
    "import pandas as pd # 데이터 프레임을 만들기위함\n",
    "import numpy as np # 넘파이\n",
    "from tqdm import tqdm # 진행도를 보기위함\n",
    "import time"
   ]
  },
  {
   "cell_type": "markdown",
   "id": "75c7e0a3",
   "metadata": {},
   "source": [
    "[링크](https://store.steampowered.com/search/results/?query&start={i}&count=100&dynamic_data=&force_infinite=1&category1=998&snr=1_7_7_230_7&infinite=13)"
   ]
  },
  {
   "cell_type": "code",
   "execution_count": null,
   "id": "9d750be7",
   "metadata": {},
   "outputs": [],
   "source": [
    "name_l = []\n",
    "id_l = []\n",
    "\n",
    "for i in tqdm(range(100,10001,100)):\n",
    "    time.sleep(2)\n",
    "    response = requests.get(f'https://store.steampowered.com/search/results/?query&start={i}&count=100&dynamic_data=&force_infinite=1&category1=998&snr=1_7_7_230_7&infinite=13')\n",
    "    data = response.json()\n",
    "    data = data['results_html']\n",
    "    soup = BeautifulSoup(data, 'html.parser')\n",
    "    \n",
    "    l = soup.find_all('span', class_='title')\n",
    "    for i in l:\n",
    "      name_l.append(i.text)\n",
    "    \n",
    "    id = soup.select('a.search_result_row.ds_collapse_flag')\n",
    "    for i in id:\n",
    "      id_l.append(i.get('data-ds-appid'))"
   ]
  },
  {
   "cell_type": "code",
   "execution_count": null,
   "id": "5ae2fc44",
   "metadata": {},
   "outputs": [],
   "source": [
    "data = pd.DataFrame(zip(name_l, id_l), columns = ['game_name', 'game_id'])\n",
    "data = data.drop_duplicates('game_name')\n",
    "data = data.drop_duplicates('game_id')\n",
    "data.reset_index(drop = True)\n",
    "data.drop(data[data['game_id'].str.contains(',')].index, inplace = True)\n",
    "data.reset_index(drop = True)"
   ]
  },
  {
   "cell_type": "code",
   "execution_count": null,
   "id": "d4525312",
   "metadata": {},
   "outputs": [],
   "source": [
    "data.to_csv('1. appid 크롤링 결과.csv', index=False)"
   ]
  }
 ],
 "metadata": {
  "kernelspec": {
   "display_name": "Python 3 (ipykernel)",
   "language": "python",
   "name": "python3"
  },
  "language_info": {
   "codemirror_mode": {
    "name": "ipython",
    "version": 3
   },
   "file_extension": ".py",
   "mimetype": "text/x-python",
   "name": "python",
   "nbconvert_exporter": "python",
   "pygments_lexer": "ipython3",
   "version": "3.9.7"
  }
 },
 "nbformat": 4,
 "nbformat_minor": 5
}
