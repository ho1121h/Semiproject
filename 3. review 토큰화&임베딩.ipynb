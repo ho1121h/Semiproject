{
 "cells": [
  {
   "cell_type": "code",
   "execution_count": null,
   "id": "aef64c2f",
   "metadata": {},
   "outputs": [],
   "source": [
    "import pandas as pd\n",
    "import numpy as np\n",
    "import tensorflow as tf\n",
    "import tqdm.notebook\n",
    "import math\n",
    "from eunjeon import Mecab\n",
    "from tqdm import tqdm "
   ]
  },
  {
   "cell_type": "code",
   "execution_count": null,
   "id": "6c3de8d2",
   "metadata": {},
   "outputs": [],
   "source": [
    "games = pd.read_csv(\"2. review 크롤링 결과.csv\")"
   ]
  },
  {
   "cell_type": "code",
   "execution_count": null,
   "id": "381c6759",
   "metadata": {},
   "outputs": [],
   "source": [
    "okt=Mecab()\n",
    "s_w=set(['은','는','이','가','를','들','에게','의','을','도','으로','만','라서','하다'])"
   ]
  },
  {
   "cell_type": "code",
   "execution_count": null,
   "id": "047b029a",
   "metadata": {},
   "outputs": [],
   "source": [
    "games['tocken'] = games['review'].map(lambda x: okt.morphs(x))#판다스 프레임에 map으로 전체 적용\n",
    "games.reset_index(drop = True, inplace = True)"
   ]
  },
  {
   "cell_type": "code",
   "execution_count": null,
   "id": "f66357a2",
   "metadata": {},
   "outputs": [],
   "source": [
    "%%time\n",
    "from sentence_transformers import SentenceTransformer\n",
    "model = SentenceTransformer('jhgan/ko-sroberta-multitask')"
   ]
  },
  {
   "cell_type": "code",
   "execution_count": null,
   "id": "efa896ed",
   "metadata": {
    "scrolled": true
   },
   "outputs": [],
   "source": [
    "games['embedding'] = games['tocken'].map(lambda x: list(model.encode(x)))#판다스 프레임에 map으로 전체 적용"
   ]
  },
  {
   "cell_type": "code",
   "execution_count": null,
   "id": "c1468ffb",
   "metadata": {},
   "outputs": [],
   "source": [
    "games.to_csv('3. review 토큰화&임베딩 결과.csv', index=False)"
   ]
  }
 ],
 "metadata": {
  "kernelspec": {
   "display_name": "Python 3 (ipykernel)",
   "language": "python",
   "name": "python3"
  },
  "language_info": {
   "codemirror_mode": {
    "name": "ipython",
    "version": 3
   },
   "file_extension": ".py",
   "mimetype": "text/x-python",
   "name": "python",
   "nbconvert_exporter": "python",
   "pygments_lexer": "ipython3",
   "version": "3.9.7"
  }
 },
 "nbformat": 4,
 "nbformat_minor": 5
}
