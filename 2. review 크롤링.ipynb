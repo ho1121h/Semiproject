{
 "cells": [
  {
   "cell_type": "code",
   "execution_count": null,
   "id": "1f03f86a",
   "metadata": {},
   "outputs": [],
   "source": [
    "import requests\n",
    "import time\n",
    "import pandas as pd\n",
    "import numpy as np\n",
    "from tqdm import tqdm"
   ]
  },
  {
   "cell_type": "code",
   "execution_count": null,
   "id": "e0c0c5e9",
   "metadata": {},
   "outputs": [],
   "source": [
    "def get_reviews(appid, params={'json':1}):\n",
    "        url = 'https://store.steampowered.com/appreviews/'\n",
    "        response = requests.get(url=url+str(appid), params=params, headers={'User-Agent': 'Mozilla/5.0'})\n",
    "        return response.json()"
   ]
  },
  {
   "cell_type": "code",
   "execution_count": null,
   "id": "93a58f9b",
   "metadata": {},
   "outputs": [],
   "source": [
    "def get_n_reviews(appid, n=100):\n",
    "    reviews = []\n",
    "    cursor = '*'\n",
    "    params = {\n",
    "        'json' : 1,\n",
    "        'filter' : 'all',\n",
    "        'language' : 'koreana',#한국어로된 리뷰\n",
    "        'day_range' : 9223372036854775807,#전체기간의 리뷰\n",
    "        'review_type' : 'all',\n",
    "    }\n",
    "    while n > 0:\n",
    "        time.sleep(2)\n",
    "        params['cursor'] = cursor.encode()\n",
    "        params['num_per_page'] = min(100, n)\n",
    "        n -= 100\n",
    "        response = get_reviews(appid, params)\n",
    "        cursor = response['cursor']\n",
    "        reviews += response['reviews']\n",
    "        if len(response['reviews']) < 100: break\n",
    "    return reviews"
   ]
  },
  {
   "cell_type": "code",
   "execution_count": null,
   "id": "31dacd68",
   "metadata": {},
   "outputs": [],
   "source": [
    "df_id=pd.read_csv('1. appid 크롤링 결과.csv') #appid  불러오기\n",
    "len(df_id)"
   ]
  },
  {
   "cell_type": "code",
   "execution_count": null,
   "id": "4b8b4de6",
   "metadata": {},
   "outputs": [],
   "source": [
    "for i in range(99,9899,100):\n",
    "    print(i)\n",
    "    df = pd.DataFrame()\n",
    "    reviews = []\n",
    "    game_name=[] \n",
    "    for index,row in tqdm(df_id[i-99:i].iterrows()):\n",
    "        reviews.append(get_n_reviews(row[1], 100))\n",
    "        game_name.append(row[0])\n",
    "    for j in range(len(reviews)):\n",
    "      data = pd.DataFrame.from_dict(reviews[j])\n",
    "      data['game_name'] = game_name[j]\n",
    "      df = df.append(data)"
   ]
  },
  {
   "cell_type": "code",
   "execution_count": null,
   "id": "7eafe236",
   "metadata": {},
   "outputs": [],
   "source": [
    "df.reset_index(drop = True)\n",
    "df = df[['game_name','review','steam_purchase']]\n",
    "df['review'] = df['review'] \\\n",
    ".replace(r'[^가-힣 ]', ' ', regex=True) \\\n",
    ".replace(\"'\", '') \\\n",
    ".replace(r'\\s+', ' ', regex=True) \\\n",
    ".str.strip() \\\n",
    ".str[:255]\n",
    "df = df[df['review'].str.strip().astype(bool)]"
   ]
  },
  {
   "cell_type": "code",
   "execution_count": null,
   "id": "8c114b4d",
   "metadata": {},
   "outputs": [],
   "source": [
    "df.to_csv('2. review 크롤링 결과.csv',index=False)"
   ]
  }
 ],
 "metadata": {
  "kernelspec": {
   "display_name": "Python 3 (ipykernel)",
   "language": "python",
   "name": "python3"
  },
  "language_info": {
   "codemirror_mode": {
    "name": "ipython",
    "version": 3
   },
   "file_extension": ".py",
   "mimetype": "text/x-python",
   "name": "python",
   "nbconvert_exporter": "python",
   "pygments_lexer": "ipython3",
   "version": "3.9.7"
  }
 },
 "nbformat": 4,
 "nbformat_minor": 5
}
